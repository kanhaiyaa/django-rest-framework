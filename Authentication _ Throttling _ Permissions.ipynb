{
 "cells": [
  {
   "cell_type": "markdown",
   "id": "loving-chile",
   "metadata": {},
   "source": [
    "### Authentication\n",
    "\n",
    "Authentication is the mechanism of associating an incoming request with a set of identifying credentials, such as the user the request came from, or the token that it was signed with. \n",
    "\n",
    "The permission and throttling policies can then use those credentials to determine if the request should be permitted.\n",
    "\n",
    "Authentication is always run at the very start of the view, before the permission and throttling checks occur, and before any other code is allowed to proceed.\n",
    "\n",
    "The request.user property will typically be set to an instance of the contrib.auth package's User class.\n",
    "\n",
    "The request.auth property is used for any additional authentication information, for example, it may be used to represent an authentication token that the request was signed with.\n",
    "\n",
    "Don't forget that **authentication by itself won't allow or disallow an incoming request, it simply identifies the credentials that the request was made with**.\n",
    "\n",
    "\n",
    "### How authentication is determined\n",
    "The authentication schemes are always defined as a list of classes. REST framework will attempt to authenticate with each class in the list, and will set request.user and request.auth using the return value of the first class that successfully authenticates.\n",
    "\n",
    "If no class authenticates, request.user will be set to an instance of django.contrib.auth.models.AnonymousUser, and request.auth will be set to None.\n",
    "\n",
    "The value of request.user and request.auth for unauthenticated requests can be modified using the UNAUTHENTICATED_USER and UNAUTHENTICATED_TOKEN settings."
   ]
  },
  {
   "cell_type": "markdown",
   "id": "affected-reservoir",
   "metadata": {},
   "source": [
    "Some of the authentication which are used these days are :-\n",
    "    \n",
    "1. BasicAuthentication\n",
    "2. TokenAuthentication\n",
    "3. SessionAuthentication\n",
    "4. RemoteUserAuthentication\n",
    "\n",
    "Other than these like oauth, oauth2 based authentication are provided by the efforts of the community with help of other python packages.\n",
    "\n",
    "1. Oauth\n",
    "2. Jwt\n",
    "3. Cookie Based\n",
    "4. Open Id\n",
    "5. SAML"
   ]
  },
  {
   "cell_type": "markdown",
   "id": "purple-casting",
   "metadata": {},
   "source": [
    "# [Permissions](https://www.django-rest-framework.org/api-guide/permissions/#permissions)"
   ]
  },
  {
   "cell_type": "markdown",
   "id": "disabled-tenant",
   "metadata": {},
   "source": [
    "1. Permission checks are always run at the very start of the view, before any other code is allowed to proceed.\n",
    "\n",
    "## How permissions are determined\n",
    "Permissions in REST framework are always defined as a list of permission classes.\n",
    "\n",
    "Before running the main body of the view each permission in the list is checked. If any permission check fails an exceptions.PermissionDenied or exceptions.NotAuthenticated exception will be raised, and the main body of the view will not run.\n",
    "\n",
    "When the permissions checks fail either a \"403 Forbidden\" or a \"401 Unauthorized\" response will be returned, according to the following rules:\n",
    "\n",
    "1. The request was successfully authenticated, but permission was denied. — An HTTP 403 Forbidden response will be returned.\n",
    "\n",
    "\n",
    "2. The request was not successfully authenticated, and the highest priority authentication class does not use WWW-Authenticate headers. — An HTTP 403 Forbidden response will be returned.\n",
    "\n",
    "\n",
    "3. The request was not successfully authenticated, and the highest priority authentication class does use WWW-Authenticate headers. — An HTTP 401 Unauthorized response, with an appropriate WWW-Authenticate header will be returned."
   ]
  },
  {
   "cell_type": "markdown",
   "id": "victorian-psychology",
   "metadata": {},
   "source": [
    "## Object level permissions\n",
    "\n",
    "REST framework permissions also support object-level permissioning. Object level permissions are used to determine if a user should be allowed to act on a particular object, which will typically be a model instance.\n",
    "\n",
    "Object level permissions are run by REST framework's generic views when .get_object() is called. As with view level permissions, an exceptions.PermissionDenied exception will be raised if the user is not allowed to act on the given object.\n",
    "\n",
    "If you're writing your own views and want to enforce object level permissions, or if you override the get_object method on a generic view, then you'll need to explicitly call the .check_object_permissions(request, obj) method on the view at the point at which you've retrieved the object.\n",
    "\n",
    "This will either raise a PermissionDenied or NotAuthenticated exception, or simply return if the view has the appropriate permissions.\n",
    "\n",
    "## Limitations of object level permissions\n",
    "For performance reasons the generic views will not automatically apply object level permissions to each instance in a queryset when returning a list of objects.\n",
    "\n",
    "Often when you're using object level permissions you'll also want to filter the queryset appropriately, to ensure that users only have visibility onto instances that they are permitted to view.\n",
    "\n",
    "The default permission policy may be set globally, using the DEFAULT_PERMISSION_CLASSES setting.\n",
    "\n",
    "You can also set the authentication policy on a per-view, or per-viewset basis, using the APIView class-based views or @api_view function based views.\n",
    "\n",
    "## [Types of Permissions](https://www.django-rest-framework.org/api-guide/permissions/#api-reference)\n",
    "\n",
    "#### 1. AllowAny\n",
    "\n",
    "The AllowAny permission class will allow unrestricted access, regardless of if the request was authenticated or unauthenticated.\n",
    "\n",
    "This permission is not strictly required, since you can achieve the same result by using an empty list or tuple for the permissions setting, but you may find it useful to specify this class because it makes the intention explicit.\n",
    "\n",
    "#### 2. IsAuthenticated\n",
    "The IsAuthenticated permission class will deny permission to any unauthenticated user, and allow permission otherwise.\n",
    "\n",
    "This permission is suitable if you want your API to only be accessible to registered users.\n",
    "\n",
    "#### 2. IsAdminUser\n",
    "The IsAdminUser permission class will deny permission to any user, unless user.is_staff is True in which case permission will be allowed.\n",
    "\n",
    "This permission is suitable if you want your API to only be accessible to a subset of trusted administrators.\n",
    "\n",
    "#### 4. IsAuthenticatedOrReadOnly\n",
    "The IsAuthenticatedOrReadOnly will allow authenticated users to perform any request. Requests for unauthorised users will only be permitted if the request method is one of the \"safe\" methods; GET, HEAD or OPTIONS.\n",
    "\n",
    "This permission is suitable if you want to your API to allow read permissions to anonymous users, and only allow write permissions to authenticated users.\n",
    "\n",
    "#### 5. DjangoModelPermissions\n",
    "\n",
    "Authorization will only be granted if the user is authenticated and has the relevant model permissions assigned.\n",
    "\n",
    "This permission class ties into Django's standard django.contrib.auth model permissions. This permission must only be applied to views that have a .queryset property set. \n",
    "\n",
    "POST requests require the user to have the add permission on the model.\n",
    "PUT and PATCH requests require the user to have the change permission on the model.\n",
    "DELETE requests require the user to have the delete permission on the model.\n",
    "The default behaviour can also be overridden to support custom model permissions. For example, you might want to include a view model permission for GET requests.\n",
    "\n",
    "To use custom model permissions, override DjangoModelPermissions and set the .perms_map property. Refer to the source code for details.\n",
    "\n",
    "Using with views that do not include a queryset attribute.\n",
    "If you're using this permission with a view that uses an overridden get_queryset() method there may not be a queryset attribute on the view. In this case we suggest also marking the view with a sentinel queryset, so that this class can determine the required permissions.\n",
    "\n",
    "#### 6. DjangoModelPermissionsOrAnonReadOnly\n",
    "\n",
    "Similar to DjangoModelPermissions, but also allows unauthenticated users to have read-only access to the API.\n",
    "\n",
    "This permission class ties into Django's standard object permissions framework that allows per-object permissions on models.\n",
    "\n",
    "#### 7. Custom permissions\n",
    "\n",
    "To implement a custom permission, override BasePermission and implement either, or both, of the following methods:\n",
    "\n",
    "- .has_permission(self, request, view)\n",
    "- .has_object_permission(self, request, view, obj)\n",
    "\n",
    "The methods should return True if the request should be granted access, and False otherwise.\n",
    "\n",
    "If you need to test if a request is a read operation or a write operation, you should check the request method against the constant SAFE_METHODS, which is a tuple containing 'GET', 'OPTIONS' and 'HEAD'. For example:"
   ]
  },
  {
   "cell_type": "raw",
   "id": "fitting-refund",
   "metadata": {},
   "source": [
    "if request.method in permissions.SAFE_METHODS:\n",
    "    # Check permissions for read-only request\n",
    "else:\n",
    "    # Check permissions for write request"
   ]
  },
  {
   "cell_type": "markdown",
   "id": "postal-birth",
   "metadata": {},
   "source": [
    "Note: The instance-level has_object_permission method will only be called if the view-level has_permission checks have already passed. Also note that in order for the instance-level checks to run, the view code should explicitly call .check_object_permissions(request, obj). If you are using the generic views then this will be handled for you by default. (Function-based views will need to check object permissions explicitly, raising PermissionDenied on failure.)\n",
    "\n",
    "Custom permissions will raise a PermissionDenied exception if the test fails. To change the error message associated with the exception, implement a message attribute directly on your custom permission. Otherwise the default_detail attribute from PermissionDenied will be used. Similarly, to change the code identifier associated with the exception, implement a code attribute directly on your custom permission - otherwise the default_code attribute from PermissionDenied will be used."
   ]
  },
  {
   "cell_type": "markdown",
   "id": "western-uncertainty",
   "metadata": {},
   "source": [
    "# [Throttling](https://www.django-rest-framework.org/api-guide/throttling/) "
   ]
  },
  {
   "cell_type": "markdown",
   "id": "italic-affect",
   "metadata": {},
   "source": [
    "- Throttling is similar to permissions, in that it determines if a request should be authorized. \n",
    "\n",
    "- Throttles indicate a temporary state, and are used to control the rate of requests that clients can make to an API.\n",
    "\n",
    "\n",
    "As with permissions, multiple throttles may be used. Your API might have a restrictive throttle for unauthenticated requests, and a less restrictive throttle for authenticated requests.\n",
    "\n",
    "Another scenario where you might want to use multiple throttles would be if you need to impose different constraints on different parts of the API, due to some services being particularly resource-intensive.\n",
    "\n",
    "Multiple throttles can also be used if you want to impose both burst throttling rates, and sustained throttling rates. For example, you might want to limit a user to a maximum of 60 requests per minute, and 1000 requests per day.\n",
    "\n",
    "Throttles do not necessarily only refer to rate-limiting requests. For example a storage service might also need to throttle against bandwidth, and a paid data service might want to throttle against a certain number of a records being accessed.\n",
    "\n"
   ]
  },
  {
   "cell_type": "markdown",
   "id": "charitable-jungle",
   "metadata": {},
   "source": [
    "## How throttling is determined\n",
    "\n",
    "As with permissions and authentication, throttling in REST framework is always defined as a list of classes.\n",
    "\n",
    "Before running the main body of the view each throttle in the list is checked. If any throttle check fails an exceptions.Throttled exception will be raised, and the main body of the view will not run."
   ]
  },
  {
   "cell_type": "markdown",
   "id": "incorporate-cemetery",
   "metadata": {},
   "source": [
    "### Setting the throttling policy\n",
    "The default throttling policy may be set globally, using the DEFAULT_THROTTLE_CLASSES and DEFAULT_THROTTLE_RATES settings.\n",
    "\n",
    "The rate descriptions used in DEFAULT_THROTTLE_RATES may include second, minute, hour or day as the throttle period.\n",
    "\n",
    "You can also set the throttling policy on a per-view or per-viewset basis, using the APIView class-based views or @api_decorator based views.."
   ]
  },
  {
   "cell_type": "markdown",
   "id": "congressional-attention",
   "metadata": {},
   "source": [
    "## How clients are identified\n",
    "The X-Forwarded-For HTTP header and REMOTE_ADDR WSGI variable are used to uniquely identify client IP addresses for throttling. If the X-Forwarded-For header is present then it will be used, otherwise the value of the REMOTE_ADDR variable from the WSGI environment will be used.\n",
    "\n",
    "If you need to strictly identify unique client IP addresses, you'll need to first configure the number of application proxies that the API runs behind by setting the NUM_PROXIES setting. This setting should be an integer of zero or more. If set to non-zero then the client IP will be identified as being the last IP address in the X-Forwarded-For header, once any application proxy IP addresses have first been excluded. If set to zero, then the REMOTE_ADDR value will always be used as the identifying IP address.\n",
    "\n",
    "It is important to understand that if you configure the NUM_PROXIES setting, then all clients behind a unique NAT'd gateway will be treated as a single client.\n",
    "\n",
    "Further context on how the X-Forwarded-For header works, and identifying a remote client IP can be found [here](https://oxpedia.org/wiki/index.php?title=AppSuite:Grizzly#Multiple_Proxies_in_front_of_the_cluster)."
   ]
  },
  {
   "cell_type": "markdown",
   "id": "clinical-tobago",
   "metadata": {},
   "source": [
    "## Setting up the cache\n",
    "The throttle classes provided by REST framework use Django's cache backend. You should make sure that you've set appropriate cache settings. The default value of LocMemCache backend should be okay for simple setups. See Django's cache documentation for more details.\n",
    "\n",
    "If you need to use a cache other than 'default', you can do so by creating a custom throttle class and setting the cache attribute."
   ]
  },
  {
   "cell_type": "markdown",
   "id": "incredible-pantyhose",
   "metadata": {},
   "source": [
    "### Types of Throttle\n",
    "\n",
    "#### 1. AnonRateThrottle\n",
    "\n",
    "The AnonRateThrottle will only ever throttle unauthenticated users. The IP address of the incoming request is used to generate a unique key to throttle against.\n",
    "\n",
    "The allowed request rate is determined from one of the following (in order of preference).\n",
    "\n",
    "The rate property on the class, which may be provided by overriding AnonRateThrottle and setting the property.\n",
    "The DEFAULT_THROTTLE_RATES['anon'] setting.\n",
    "\n",
    "AnonRateThrottle is suitable if you want to restrict the rate of requests from unknown sources.\n",
    "\n",
    "#### 2. UserRateThrottle\n",
    "\n",
    "The UserRateThrottle will throttle users to a given rate of requests across the API. The user id is used to generate a unique key to throttle against. Unauthenticated requests will fall back to using the IP address of the incoming request to generate a unique key to throttle against.\n",
    "\n",
    "The allowed request rate is determined from one of the following (in order of preference).\n",
    "\n",
    "The rate property on the class, which may be provided by overriding UserRateThrottle and setting the property.\n",
    "The DEFAULT_THROTTLE_RATES['user'] setting.\n",
    "\n",
    "An API may have multiple UserRateThrottles in place at the same time. To do so, override UserRateThrottle and set a unique \"scope\" for each class.\n",
    "\n",
    "UserRateThrottle is suitable if you want simple global rate restrictions per-user.\n",
    "\n",
    "#### 3. ScopedRateThrottle\n",
    "\n",
    "The ScopedRateThrottle class can be used to restrict access to specific parts of the API. This throttle will only be applied if the view that is being accessed includes a .throttle_scope property. The unique throttle key will then be formed by concatenating the \"scope\" of the request with the unique user id or IP address.\n",
    "\n",
    "The allowed request rate is determined by the DEFAULT_THROTTLE_RATES setting using a key from the request \"scope\".\n",
    "\n",
    "#### 4. Custom throttles\n",
    "To create a custom throttle, override BaseThrottle and implement .allow_request(self, request, view). The method should return True if the request should be allowed, and False otherwise.\n",
    "\n",
    "Optionally you may also override the .wait() method. If implemented, .wait() should return a recommended number of seconds to wait before attempting the next request, or None. The .wait() method will only be called if .allow_request() has previously returned False.\n",
    "\n",
    "If the .wait() method is implemented and the request is throttled, then a Retry-After header will be included in the response.\n",
    "\n",
    "The following is an example of a rate throttle, that will randomly throttle 1 in every 10 requests."
   ]
  },
  {
   "cell_type": "raw",
   "id": "renewable-youth",
   "metadata": {},
   "source": [
    "import random\n",
    "\n",
    "class RandomRateThrottle(throttling.BaseThrottle):\n",
    "    def allow_request(self, request, view):\n",
    "        return random.randint(1, 10) != 1"
   ]
  }
 ],
 "metadata": {
  "kernelspec": {
   "display_name": "Python 3",
   "language": "python",
   "name": "python3"
  },
  "language_info": {
   "codemirror_mode": {
    "name": "ipython",
    "version": 3
   },
   "file_extension": ".py",
   "mimetype": "text/x-python",
   "name": "python",
   "nbconvert_exporter": "python",
   "pygments_lexer": "ipython3",
   "version": "3.8.5"
  }
 },
 "nbformat": 4,
 "nbformat_minor": 5
}
