{
 "cells": [
  {
   "cell_type": "markdown",
   "id": "historic-polls",
   "metadata": {},
   "source": [
    "# Project setup"
   ]
  },
  {
   "cell_type": "markdown",
   "id": "coupled-cardiff",
   "metadata": {},
   "source": [
    "#### Create the project directory\n",
    "- mkdir drf\n",
    "- cd drf\n",
    "\n",
    "#### Create a virtual environment to isolate our package dependencies locally\n",
    "- python3 -m venv env\n",
    "- . myvenv/bin/activate  # On Windows use `myenv\\Scripts\\activate`\n",
    "\n",
    "#### Install Django and Django REST framework into the virtual environment\n",
    "- pip install django\n",
    "- pip install djangorestframework\n",
    "- pip install pygments  #for code highlighting\n",
    "\n",
    "`pip freeze requirements` to check if all requirements installed successfully (create and add requriements into requirements file).\n",
    "\n",
    "#### Set up a new project with a single application\n",
    "\n",
    "- django-admin startproject tutorial .  \n",
    "\n",
    "`Note the trailing '.' character `to tell django start project in current directory`"
   ]
  },
  {
   "cell_type": "markdown",
   "id": "listed-national",
   "metadata": {},
   "source": [
    "#### Create first app\n",
    "\n",
    "- django-admin startapp snippets"
   ]
  },
  {
   "cell_type": "markdown",
   "id": "photographic-spine",
   "metadata": {},
   "source": [
    "Go to `tutorial/settings.py` and add `rest_framework` and `snippets.apps.SnippetsConfig` in installed apps to register the apps with tutorial project"
   ]
  },
  {
   "cell_type": "markdown",
   "id": "hispanic-sustainability",
   "metadata": {},
   "source": [
    "#### Now sync your database for the first time:"
   ]
  },
  {
   "cell_type": "markdown",
   "id": "enormous-politics",
   "metadata": {},
   "source": [
    "- python manage.py migrate"
   ]
  },
  {
   "cell_type": "markdown",
   "id": "racial-force",
   "metadata": {},
   "source": [
    "#### Create Super User\n",
    "\n",
    "- python manage.py runserver"
   ]
  },
  {
   "cell_type": "markdown",
   "id": "loved-therapy",
   "metadata": {},
   "source": [
    "We are ready to roll"
   ]
  },
  {
   "cell_type": "markdown",
   "id": "through-teddy",
   "metadata": {},
   "source": [
    "***"
   ]
  },
  {
   "cell_type": "markdown",
   "id": "sought-dynamics",
   "metadata": {},
   "source": [
    "## [Serializer](https://www.youtube.com/watch?v=MsRvqMxOryM)\n",
    "\n",
    "Serializer packages and unpackages the data,\n",
    "\n",
    "> Packages when data is going to server, Called De-serialize.\n",
    "\n",
    "> Unpackages when data is coming from server (Usually Tabular data into json or other formats), Called Serialization.\n",
    "\n",
    "Using a serializer, we can specify what fields should be present in the JSON representation of the model.\n"
   ]
  },
  {
   "cell_type": "markdown",
   "id": "adopted-integrity",
   "metadata": {},
   "source": [
    "### pickling/serialization/Marshalling/Flattening\n",
    "\n",
    "- converting a python object hierarchy into a byte stream\n",
    "- keeps track of objects already serialized\n",
    "- can be used to save and restore class instances\n",
    "- json is a text serialization format, while pickle is a binary serialization format, not human readable.\n",
    "- json is univarsal, pickle is python specific.\n",
    "\n",
    "1. dump - Writes a pickled representation of object obj to file. # pickle.dump(x,f), x=7\n",
    "2. dumps - Returns the pickled representation of obj as bytes object. Does not write to file # pickle.dumps(x)\n",
    "3. load - Reads a pickled representation from a file and returns the reconstructed object hierarchy # pickle.load(f)\n",
    "4. loads - Reads a pickled object hierarchy and returns the reconstructed object hierarchy\n",
    "\n",
    "#### Two constants - \n",
    "\n",
    "v.4. pickle.HIGHEST_PROTOCOL - Supports Very Large object\n",
    "\n",
    "v.3. pickle.DEFAULT_PROTOCOL - Supports bytes object\n",
    "\n",
    "#### Other Classes\n",
    "\n",
    "1. Pickler\n",
    "2. Unpickler\n",
    "\n",
    "We can pickle and unpickle anything from boolean, integer, floats, string, bytes, tuple, list, sets, dictionaries holding only pickable objects.\n",
    "\n",
    "### unpickling\n",
    "\n",
    "converting a byte stream into an object hierarchy"
   ]
  },
  {
   "cell_type": "raw",
   "id": "fifty-tender",
   "metadata": {},
   "source": [
    "import pickle, os\n",
    "x = 7\n",
    "os.chdir('C:\\\\Users\\Admin\\\\Documents')\n",
    "f = open('adobe.txt','r+b')\n",
    "pickle.dump(x,f)\n",
    "f.close()"
   ]
  },
  {
   "cell_type": "markdown",
   "id": "incomplete-chorus",
   "metadata": {},
   "source": [
    "## Create Model, Migrate and Register With admin site."
   ]
  },
  {
   "cell_type": "raw",
   "id": "undefined-republic",
   "metadata": {},
   "source": [
    "# snippets/model.py\n",
    "#Create Model\n",
    "\n",
    "from django.db import models\n",
    "\n",
    "class Article(models.Model):\n",
    "    title = models.CharField(max_length=100)\n",
    "    author = models.CharField(max_length=100)\n",
    "    email = models.CharField(max_length=100)\n",
    "    date = models.DateTimeField(auto_now_add=True)\n",
    "\n",
    "    def __str__(self):\n",
    "        return self.title"
   ]
  },
  {
   "cell_type": "raw",
   "id": "abandoned-gasoline",
   "metadata": {},
   "source": [
    "#Make Migrations\n",
    "\n",
    "- python3 manage.py makemigrations\n",
    "- python3 manage.py migrate"
   ]
  },
  {
   "cell_type": "raw",
   "id": "missing-builder",
   "metadata": {},
   "source": [
    "#snippets/admin.py\n",
    "#register Article with admin site\n",
    "\n",
    "from django.contrib import admin\n",
    "\n",
    "from .models import Article\n",
    "admin.site.register(Article)"
   ]
  },
  {
   "cell_type": "markdown",
   "id": "unexpected-uniform",
   "metadata": {},
   "source": [
    "***\n",
    "***"
   ]
  },
  {
   "cell_type": "markdown",
   "id": "raised-valentine",
   "metadata": {},
   "source": [
    "## Serialize the Article Model\n",
    "\n",
    "### 1. Using Serializer Class\n",
    "\n",
    "The first part of the serializer class defines the fields that get serialized/deserialized. The create() and update() methods define how fully fledged instances are created or modified when calling serializer.save()\n",
    "\n",
    "A serializer class is very similar to a Django Form class, and includes similar validation flags on the various fields, such as required, max_length and default.\n",
    "\n",
    "The field flags can also control how the serializer should be displayed in certain circumstances, such as when rendering to HTML. The {'base_template': 'textarea.html'} flag above is equivalent to using widget=widgets.Textarea on a Django Form class. This is particularly useful for controlling how the browsable API should be displayed, as we'll see later in the tutorial."
   ]
  },
  {
   "cell_type": "raw",
   "id": "complex-contemporary",
   "metadata": {},
   "source": [
    "#snippets/serializers.py\n",
    "\n",
    "from rest_framework import serializers\n",
    "from .models import Article\n",
    "\n",
    "class ArticleSerializer(serializers.Serializer):\n",
    "    title = serializers.CharField(max_length=100)\n",
    "    author = serializers.CharField(max_length=100)\n",
    "    email = serializers.CharField(max_length=100)\n",
    "    date = serializers.DateTimeField()\n",
    "\n",
    "    def create(self, validated_data):\n",
    "        return Article.objects.create(validated_data)\n",
    "\n",
    "    def update(self, instance, validated_data):\n",
    "        instance.title = validated_data.get('title', instance.title)\n",
    "        instance.author = validated_data.get('author', instance.author)\n",
    "        instance.email = validated_data.get('email', instance.email)\n",
    "        instance.date = validated_data.get('date', instance.date())\n",
    "        instance.save()\n",
    "        return instance"
   ]
  },
  {
   "cell_type": "markdown",
   "id": "together-incident",
   "metadata": {},
   "source": [
    "#### View Data Using Command Line"
   ]
  },
  {
   "cell_type": "markdown",
   "id": "occupational-ukraine",
   "metadata": {},
   "source": [
    "`python manage.py shell`\n",
    "\n",
    "`from snippets.models import Article`\n",
    "\n",
    "`from snippets.serializers import ArticleSerializer`\n",
    "\n",
    "`from rest_framework.renderers import JSONRenderer`\n",
    "\n",
    "`from rest_framework.parsers import JSONParser`\n",
    "\n",
    "`a = Article(title = 'Article Title', author=\"kanhaiya\", email=\"abc@protonmail.com\")`\n",
    "\n",
    "`a = Article(title = 'Future Of Bitcoin', author=\"john\", email=\"john@gmail.com\")`\n",
    "\n",
    "`a.save()`\n",
    "\n",
    "`serializer = ArticleSerializer(a)`\n",
    "\n",
    "`serializer.data`\n",
    "\n",
    "`content = JSONRenderer().render(serializer.data)`  #view serialized data of single article\n",
    "\n",
    "`content`\n",
    "\n",
    "`serializer = ArticleSerializer(Article.objects.all(), many=True)`\n",
    "\n",
    "`serializer.data`\n",
    "\n",
    "`content = JSONRenderer().render(serializer.data)  #view serialized data of single article`\n",
    "\n",
    "`content`"
   ]
  },
  {
   "cell_type": "markdown",
   "id": "mobile-techno",
   "metadata": {},
   "source": [
    "### 2. Model Serializers\n",
    "\n",
    "Our ArticleSerializer class is replicating a lot of information that's also contained in the Article model. **It would be nice if we could keep our code a bit more concise**.\n",
    "\n",
    "REST framework includes both Serializer classes, and ModelSerializer classes.\n",
    "\n",
    "It's important to remember that ModelSerializer classes don't do anything particularly magical, they are simply a shortcut for creating serializer classes:\n",
    "\n",
    "- An automatically determined set of fields.\n",
    "- Simple default implementations for the create() and update() methods.\n",
    "\n",
    "Let's look at refactoring our serializer using the ModelSerializer class. **Open the file Article/serializers.py again, and replace the ArticleSerializer class with the following:**"
   ]
  },
  {
   "cell_type": "code",
   "execution_count": null,
   "id": "printable-hamilton",
   "metadata": {},
   "outputs": [],
   "source": [
    "#snippets/serializers.py\n",
    "\n",
    "from rest_framework import serializers\n",
    "from .models import Article\n",
    "\n",
    "class ArticleSerializer(serializers.ModelSerializer):\n",
    "    class Meta:\n",
    "        model = Article\n",
    "        fields = ['id','title','author']"
   ]
  },
  {
   "cell_type": "markdown",
   "id": "announced-florida",
   "metadata": {},
   "source": [
    "One nice property that serializers have is that you can inspect all the fields in a serializer instance, by printing its representation. \n",
    "\n",
    "Open the Django shell with `python3 manage.py shell`, then try the following:"
   ]
  },
  {
   "cell_type": "markdown",
   "id": "handed-disabled",
   "metadata": {},
   "source": [
    "`from snippets.serializers import ArticleSerializer`\n",
    "\n",
    "`serializer = ArticleSerializer()`\n",
    "\n",
    "`print(repr(serializer))`"
   ]
  },
  {
   "cell_type": "markdown",
   "id": "metric-irrigation",
   "metadata": {},
   "source": [
    "you can see it have all the elements like serializer class, but Modelserializer is a shortcut to do that."
   ]
  },
  {
   "cell_type": "markdown",
   "id": "classical-webster",
   "metadata": {},
   "source": [
    "### 3. HyperlinkedModelSerializer\n",
    "\n",
    "The HyperlinkedModelSerializer class is similar to the ModelSerializer class except that it uses hyperlinks to represent relationships, rather than primary keys.\n",
    "\n",
    "By default the serializer will include a url field instead of a primary key field.\n",
    "\n",
    "The url field will be represented using a HyperlinkedIdentityField serializer field, and any relationships on the model will be represented using a HyperlinkedRelatedField serializer field.\n",
    "\n",
    "You can explicitly include the primary key by adding it to the fields option, for example:"
   ]
  },
  {
   "cell_type": "raw",
   "id": "creative-client",
   "metadata": {},
   "source": [
    "class AccountSerializer(serializers.HyperlinkedModelSerializer):\n",
    "    class Meta:\n",
    "        model = Account\n",
    "        fields = ['id', 'title', 'author']"
   ]
  },
  {
   "cell_type": "markdown",
   "id": "frequent-wealth",
   "metadata": {},
   "source": [
    "***\n",
    "***"
   ]
  },
  {
   "cell_type": "markdown",
   "id": "internal-shoot",
   "metadata": {},
   "source": [
    "### Writing regular Django views using our Serializer\n",
    "Let's see how we can write some API views using our new Serializer class. For the moment we won't use any of REST framework's other features, we'll just write the views as regular Django views.\n",
    "\n",
    "Edit the snippets/views.py file, and add the following."
   ]
  },
  {
   "cell_type": "markdown",
   "id": "underlying-electron",
   "metadata": {},
   "source": [
    "Note that because we want to be able to POST to this view from clients that won't have a CSRF token we need to mark the view as csrf_exempt. This isn't something that you'd normally want to do, and REST framework views actually use more sensible behavior than this, but it'll do for our purposes right now.\n",
    "\n",
    "We'll also need a view which corresponds to an individual snippet, and can be used to retrieve, update or delete the snippet."
   ]
  },
  {
   "cell_type": "code",
   "execution_count": null,
   "id": "comfortable-gravity",
   "metadata": {},
   "outputs": [],
   "source": [
    "from django.shortcuts import render\n",
    "from django.http import HttpResponse, JsonResponse\n",
    "from rest_framework.parsers import JSONParser\n",
    "from .models import Article\n",
    "from django.views.decorators.csrf import csrf_exempt\n",
    "from .serializers import ArticleSerializer\n",
    "\n",
    "@csrf_exempt\n",
    "def article_list(request):\n",
    "    if request.method == 'GET':\n",
    "        articles = Article.objects.all()\n",
    "        serializer = ArticleSerializer(articles, many=True)\n",
    "        return JsonResponse(serializer.data, safe=False)\n",
    "\n",
    "    elif request.method == 'POST':\n",
    "        data = JSONParser().parse(request)\n",
    "        serializer = ArticleSerializer(data=data)\n",
    "\n",
    "        if serializer.is_valid():\n",
    "            serializer.save()\n",
    "            return JsonResponse(serializer.data, status=201)\n",
    "\n",
    "        return JsonResponse(serializer.errors, status=400)\n",
    "\n",
    "@csrf_exempt\n",
    "def article_detail(request, pk):\n",
    "    try:\n",
    "        article = Article.objects.get(pk=pk)\n",
    "    except Article.DoesNotExist:\n",
    "        return HttpResponse(status=404)\n",
    "\n",
    "    \n",
    "    if request.method = 'GET':\n",
    "        serializer = ArticleSerializer(article)\n",
    "        return JsonResponse(serializer.data)\n",
    "        \n",
    "    elif request.method == 'PUT':\n",
    "        data = JSONParser().parse(request)\n",
    "        serializer = ArticleSerializer(article, data=data)\n",
    "        if serializer.is_valid():\n",
    "            serializer.save()\n",
    "\n",
    "            return JsonResponse(serializer.data)\n",
    "            return JsonResponse(serializer.errors, status=400)\n",
    "\n",
    "    elif request.method == 'DELETE':\n",
    "        article.delete()\n",
    "        return HttpResponse(status=204)\n"
   ]
  },
  {
   "cell_type": "markdown",
   "id": "mechanical-assets",
   "metadata": {},
   "source": [
    "***\n",
    "***"
   ]
  },
  {
   "cell_type": "raw",
   "id": "closing-fleet",
   "metadata": {},
   "source": [
    "##Finally wire these views up\n",
    "\n",
    "#tutorial/urls.py\n",
    "\n",
    "\"\"\"\n",
    "from django.contrib import admin\n",
    "from django.urls import path, include\n",
    "\n",
    "urlpatterns = [\n",
    "    path('admin/', admin.site.urls),\n",
    "    path('', include('snippets.urls'))\n",
    "]"
   ]
  },
  {
   "cell_type": "raw",
   "id": "burning-partner",
   "metadata": {},
   "source": [
    "#snippets/urls.py\n",
    "\n",
    "from django.urls import path\n",
    "from .views import article_list\n",
    "from .views import article_detail\n",
    "\n",
    "urlpatterns = [\n",
    "    path('article/', article_list),\n",
    "    path('detail/<int:pk>/', article_detail) \n",
    "]"
   ]
  },
  {
   "cell_type": "markdown",
   "id": "human-machinery",
   "metadata": {},
   "source": [
    "***\n",
    "***"
   ]
  },
  {
   "cell_type": "markdown",
   "id": "healthy-maldives",
   "metadata": {},
   "source": [
    "# Tutorial 2"
   ]
  },
  {
   "cell_type": "markdown",
   "id": "integral-quebec",
   "metadata": {},
   "source": [
    "## Request objects\n",
    "\n",
    "REST framework introduces a Request object that extends the regular HttpRequest, and provides more flexible request parsing. \n",
    "\n",
    "The core functionality of the Request object is the request.data attribute, which is similar to request.POST, but more useful for working with Web APIs."
   ]
  },
  {
   "cell_type": "code",
   "execution_count": null,
   "id": "hairy-tunisia",
   "metadata": {},
   "outputs": [],
   "source": [
    "request.POST  # Only handles form data.  Only works for 'POST' method.\n",
    "request.data  # Handles arbitrary data.  Works for 'POST', 'PUT' and 'PATCH' methods."
   ]
  },
  {
   "cell_type": "markdown",
   "id": "manual-detective",
   "metadata": {},
   "source": [
    "## Response objects\n",
    "REST framework also introduces a Response object, which is a type of TemplateResponse that takes unrendered content and uses content negotiation to determine the correct content type to return to the client."
   ]
  },
  {
   "cell_type": "code",
   "execution_count": null,
   "id": "organized-hydrogen",
   "metadata": {},
   "outputs": [],
   "source": [
    "return Response(data)  # Renders to content type as requested by the client."
   ]
  },
  {
   "cell_type": "markdown",
   "id": "relative-labor",
   "metadata": {},
   "source": [
    "## Status codes\n",
    "Using numeric HTTP status codes in your views doesn't always make for obvious reading, and it's easy to not notice if you get an error code wrong. \n",
    "\n",
    "REST framework provides more explicit identifiers for each status code, such as HTTP_400_BAD_REQUEST in the status module. \n",
    "\n",
    "It's a good idea to use these throughout rather than using numeric identifiers."
   ]
  },
  {
   "cell_type": "markdown",
   "id": "civic-reward",
   "metadata": {},
   "source": [
    "## Wrapping API views\n",
    "REST framework provides two wrappers you can use to write API views.\n",
    "\n",
    "1. The **@api_view** decorator for working with function based views.\n",
    "\n",
    "2. The **APIView** class for working with class-based views.\n",
    "\n",
    "These wrappers provide a few bits of functionality such as making sure \n",
    "\n",
    "1. you receive Request instances in your view, \n",
    "\n",
    "2. and adding context to **Response(instead of httpResponse))** objects so that content negotiation can be performed. since Response renders to content type as requested by client, and in httpresponse you need to use JsonParser\n",
    "\n",
    "The wrappers also provide behaviour such as returning 405 Method Not Allowed responses when appropriate, and handling any ParseError exceptions that occur when accessing request.data with malformed input."
   ]
  },
  {
   "cell_type": "markdown",
   "id": "heard-terrorist",
   "metadata": {},
   "source": [
    "1. ## api_view\n",
    "\n",
    "- @api_view decorator for working with function based views.\n",
    "\n"
   ]
  },
  {
   "cell_type": "code",
   "execution_count": null,
   "id": "enabling-sewing",
   "metadata": {},
   "outputs": [],
   "source": [
    "from django.shortcuts import render\n",
    "from django.http import HttpResponse, JsonResponse\n",
    "from rest_framework.parsers import JSONParser\n",
    "from .models import Article\n",
    "from django.views.decorators.csrf import csrf_exempt\n",
    "from .serializers import ArticleSerializer\n",
    "from rest_framework.decorators import api_view\n",
    "from rest_framework.response import Response\n",
    "from rest_framework import status\n",
    "\n",
    "@api_view(['GET', 'POST'])\n",
    "def article_list(request):\n",
    "    if request.method == 'GET':\n",
    "        articles = Article.objects.all()\n",
    "        serializer = ArticleSerializer(articles, many=True)\n",
    "        return Response(serializer.data)\n",
    "\n",
    "    elif request.method == 'POST':\n",
    "        serializer = ArticleSerializer(data=request.data)\n",
    "\n",
    "        if serializer.is_valid():\n",
    "            serializer.save()\n",
    "            return Response(serializer.data, status=status.HTTP_201_CREATED)\n",
    "\n",
    "        return Response(serializer.errors, status=status.HTTP_400_BAD_REQUEST)\n",
    "\n",
    "@api_view(['GET','PUT','DELETE'])\n",
    "def article_detail(request, pk):\n",
    "    try:\n",
    "        article = Article.objects.get(pk=pk)\n",
    "    except Article.DoesNotExist:\n",
    "        return HttpResponse(status=status.HTTP_400_BAD_REQUEST)\n",
    "\n",
    "    \n",
    "    if request.method == 'GET':\n",
    "        serializer = ArticleSerializer(article)\n",
    "        return Response(serializer.data)\n",
    "        \n",
    "    elif request.method == 'PUT':\n",
    "        serializer = ArticleSerializer(article, data=request.data)\n",
    "        if serializer.is_valid():\n",
    "            serializer.save()\n",
    "\n",
    "            return Response(serializer.data)\n",
    "            return JsonResponse(serializer.errors, status=HTTP_400_BAD_REQUEST)\n",
    "\n",
    "    elif request.method == 'DELETE':\n",
    "        article.delete()\n",
    "        return Response(status=status.HTTP_204_NO_CONTENT)"
   ]
  },
  {
   "cell_type": "markdown",
   "id": "fantastic-psychology",
   "metadata": {},
   "source": [
    "## 2. APIView class"
   ]
  },
  {
   "cell_type": "markdown",
   "id": "searching-oxygen",
   "metadata": {},
   "source": [
    "**APIView** Class-based Views allow us to reuse common functionality, It helps us keep our code **DRY**\n",
    "\n",
    "- Request passed to handler methods will be REST Framework's Request instance, Not Django's httpRequest instances."
   ]
  },
  {
   "cell_type": "code",
   "execution_count": null,
   "id": "ultimate-dynamics",
   "metadata": {},
   "outputs": [],
   "source": [
    "# snippets/views.py\n",
    "\n",
    "from django.shortcuts import render\n",
    "from django.http import HttpResponse, JsonResponse\n",
    "from rest_framework.parsers import JSONParser\n",
    "from .models import Article\n",
    "from django.views.decorators.csrf import csrf_exempt\n",
    "from .serializers import ArticleSerializer\n",
    "from rest_framework.decorators import api_view\n",
    "from rest_framework.views import APIView\n",
    "from rest_framework.response import Response\n",
    "from rest_framework import status\n",
    "\n",
    "\n",
    "class ArticleAPIView(APIView):\n",
    "\n",
    "    def get(self, request):\n",
    "        articles = Article.objects.all()\n",
    "        serializer = ArticleSerializer(articles, many=True)\n",
    "        return Response(serializer.data)\n",
    "\n",
    "    def post(self, request):\n",
    "        serializer = ArticleSerializer(data=request.data)\n",
    "\n",
    "        if serializer.is_valid():\n",
    "            serializer.save()\n",
    "            return Response(serializer.data, status=status.HTTP_201_CREATED)\n",
    "\n",
    "        return Response(serializer.errors, status=status.HTTP_400_BAD_REQUEST)\n",
    "\n",
    "\n",
    "\n",
    "class ArticleDetails(APIView):\n",
    "\n",
    "    def get_object(self, id):\n",
    "        try:\n",
    "            return Article.objects.get(id=id)\n",
    "\n",
    "        except Article.DoesNotExist:\n",
    "            raise HttpResponse(status=status.HTTP_404_NOT_FOUND)\n",
    "\n",
    "    def get(self, request, id):\n",
    "        article = self.get_object(id)\n",
    "        serializer = ArticleSerializer(article)\n",
    "        return Response(serializer.data)\n",
    "\n",
    "    def put(self, request, id):\n",
    "        article = self.get_object(id)\n",
    "        serializer = ArticleSerializer(article, data=request.data)\n",
    "        if serializer.is_valid():\n",
    "            serializer.save()\n",
    "\n",
    "            return Response(serializer.data)\n",
    "            return Response(serializer.errors, status=HTTP_400_BAD_REQUEST)\n",
    "\n",
    "\n",
    "    def delete(self, request, id):\n",
    "        article = self.get_object(id)\n",
    "        article.delete()\n",
    "        return Response(status=status.HTTP_204_NO_CONTENT)\n"
   ]
  },
  {
   "cell_type": "code",
   "execution_count": null,
   "id": "trained-individual",
   "metadata": {},
   "outputs": [],
   "source": [
    "#snippets/urls.py\n",
    "\n",
    "from django.urls import path\n",
    "# from .views import article_list\n",
    "# from .views import article_detail\n",
    "from .views import ArticleAPIView, ArticleDetails\n",
    "\n",
    "urlpatterns = [\n",
    "    # path('article/', article_list),\n",
    "    # path('detail/<int:pk>/', article_detail)\n",
    "    path('article/', ArticleAPIView.as_view()),\n",
    "    path('detail/<int:id>/', ArticleDetails.as_view()), #Because it's a class we need to use as views.\n",
    "     \n",
    "]"
   ]
  },
  {
   "cell_type": "markdown",
   "id": "functional-angola",
   "metadata": {},
   "source": [
    "***\n",
    "***"
   ]
  },
  {
   "cell_type": "markdown",
   "id": "democratic-consciousness",
   "metadata": {},
   "source": [
    "## 3. Generic Class-based Views"
   ]
  },
  {
   "cell_type": "markdown",
   "id": "skilled-psychology",
   "metadata": {},
   "source": [
    "One of the key benefits of class-based views is the way they allow you to compose bits of reusable behavior. REST framework takes advantage of this by providing a number of pre-built views that provide for commonly used patterns.\n",
    "\n",
    "The generic views provided by REST framework allow you to quickly build API views that map closely to your database models.\n",
    "\n",
    "### Using mixins\n",
    "\n",
    "The create/retrieve/update/delete operations that we've been using so far are going to be pretty similar for any model-backed API views we create. Those bits of common behaviour are implemented in REST framework's mixin classes.\n",
    "\n",
    "Let's take a look at how we can compose the views by using the mixin classes. Here's our views.py module again.\n",
    "\n",
    "The mixin classes provide the actions that are used to provide the basic view behavior. Note that the mixin classes provide action methods rather than defining the handler methods, such as .get() and .post(), directly. This allows for more flexible composition of behavior.\n",
    "\n",
    "The ***mixin classes can be imported from rest_framework.mixins**.\n",
    "\n",
    "1. ListModelMixin\n",
    "Provides a .list(request, *args, **kwargs) method, that implements listing a queryset.\n",
    "\n",
    "If the queryset is populated, this returns a 200 OK response, with a serialized representation of the queryset as the body of the response. The response data may optionally be paginated.\n",
    "\n",
    "2. CreateModelMixin\n",
    "Provides a .create(request, *args, **kwargs) method, that implements creating and saving a new model instance.\n",
    "\n",
    "If an object is created this returns a 201 Created response, with a serialized representation of the object as the body of the response. If the representation contains a key named url, then the Location header of the response will be populated with that value.\n",
    "\n",
    "If the request data provided for creating the object was invalid, a 400 Bad Request response will be returned, with the error details as the body of the response.\n",
    "\n",
    "3. RetrieveModelMixin\n",
    "Provides a .retrieve(request, *args, **kwargs) method, that implements returning an existing model instance in a response.\n",
    "\n",
    "If an object can be retrieved this returns a 200 OK response, with a serialized representation of the object as the body of the response. Otherwise it will return a 404 Not Found.\n",
    "\n",
    "4. UpdateModelMixin\n",
    "Provides a .update(request, *args, **kwargs) method, that implements updating and saving an existing model instance.\n",
    "\n",
    "\n",
    "5. Also provides a .partial_update(request, *args, **kwargs) method, which is similar to the update method, except that all fields for the update will be optional. This allows support for HTTP PATCH requests.\n",
    "\n",
    "If an object is updated this returns a 200 OK response, with a serialized representation of the object as the body of the response.\n",
    "\n",
    "If the request data provided for updating the object was invalid, a 400 Bad Request response will be returned, with the error details as the body of the response.\n",
    "\n",
    "6. DestroyModelMixin\n",
    "Provides a .destroy(request, *args, **kwargs) method, that implements deletion of an existing model instance.\n",
    "\n",
    "If an object is deleted this returns a 204 No Content response, otherwise it will return a 404 Not Found."
   ]
  },
  {
   "cell_type": "code",
   "execution_count": null,
   "id": "periodic-marble",
   "metadata": {},
   "outputs": [],
   "source": [
    "#snippets/views.py\n",
    "\n",
    "from django.shortcuts import render\n",
    "from django.http import HttpResponse, JsonResponse\n",
    "from rest_framework.parsers import JSONParser\n",
    "from .models import Article\n",
    "from django.views.decorators.csrf import csrf_exempt\n",
    "from .serializers import ArticleSerializer\n",
    "from rest_framework.decorators import api_view\n",
    "from rest_framework.views import APIView\n",
    "from rest_framework.response import Response\n",
    "from rest_framework import status\n",
    "\n",
    "from rest_framework import generics\n",
    "from rest_framework import mixins\n",
    "\n",
    "\n",
    "class GenericAPIView(generics.GenericAPIView, \n",
    "                    mixins.ListModelMixin,  #get all data\n",
    "                    mixins.CreateModelMixin, #post data\n",
    "                    mixins.UpdateModelMixin, #put\n",
    "                    mixins.RetrieveModelMixin, #get individual data\n",
    "                    mixins.DestroyModelMixin): #delete\n",
    "                    \n",
    "    serializer_class = ArticleSerializer\n",
    "    queryset = Article.objects.all()\n",
    "\n",
    "    lookup_field = 'id'\n",
    "\n",
    "    def get(self, request, id = None):\n",
    "        if id:\n",
    "            return self.retrieve(request)\n",
    "        else:\n",
    "            return self.list(request)\n",
    "\n",
    "    def post(self, request):\n",
    "        return self.create(request)\n",
    "\n",
    "    def put(self, request, id=None):\n",
    "        return self.update(request, id)\n",
    "\n",
    "    def delete(self, request, id):\n",
    "        return self.destroy(request, id)"
   ]
  },
  {
   "cell_type": "code",
   "execution_count": null,
   "id": "driven-church",
   "metadata": {},
   "outputs": [],
   "source": [
    "# snippets/urls.py\n",
    "\n",
    "from django.urls import path\n",
    "# from .views import article_list\n",
    "# from .views import article_detail\n",
    "# from .views import ArticleAPIView, ArticleDetails\n",
    "from .views import GenericAPIView\n",
    "\n",
    "urlpatterns = [\n",
    "    # path('article/', article_list),\n",
    "    # path('detail/<int:pk>/', article_detail)\n",
    "    # path('article/', ArticleAPIView.as_view()),\n",
    "    # path('detail/<int:id>/', ArticleDetails.as_view()), #Because it's a class we need to use as views.\n",
    "    path('generic/article/<int:id>/', GenericAPIView.as_view())\n",
    "     \n",
    "]"
   ]
  },
  {
   "cell_type": "markdown",
   "id": "bigger-planning",
   "metadata": {},
   "source": [
    "****\n",
    "****"
   ]
  },
  {
   "cell_type": "markdown",
   "id": "distant-weapon",
   "metadata": {},
   "source": [
    "The method handlers for a ViewSet are only bound to the corresponding actions at the point of finalizing the view, using the .as_view() method."
   ]
  },
  {
   "cell_type": "markdown",
   "id": "paperback-rubber",
   "metadata": {},
   "source": [
    "## 4. ViewSet\n",
    "\n",
    "After routing has determined which controller to use for a request, your controller is responsible for making sense of the request and producing the appropriate output."
   ]
  },
  {
   "cell_type": "markdown",
   "id": "answering-calcium",
   "metadata": {},
   "source": [
    "REST framework includes an abstraction for dealing with ViewSets, that allows the developer to concentrate on modeling the state and interactions of the API, and leave the URL construction to be handled automatically, based on common conventions.\n",
    "\n",
    "### Routers \n",
    "Routers are used with ViewSets in django rest framework to auto config the urls. Routers provides a simple, quick and consistent way of wiring ViewSet logic to a set of URLs. Router automatically maps the incoming request to proper viewset action based on the request method type(i.e GET, POST, etc)."
   ]
  },
  {
   "cell_type": "markdown",
   "id": "opposed-canal",
   "metadata": {},
   "source": [
    "### i. ViewSet - \n",
    "\n",
    "ViewSet classes are almost the same thing as View classes, except that they provide operations such as retrieve, or update, and not method handlers such as get or put."
   ]
  },
  {
   "cell_type": "code",
   "execution_count": null,
   "id": "filled-nylon",
   "metadata": {},
   "outputs": [],
   "source": [
    "# views.py\n",
    "\n",
    "from django.shortcuts import render\n",
    "from django.http import HttpResponse, JsonResponse\n",
    "from rest_framework.parsers import JSONParser\n",
    "from .models import Article\n",
    "from django.views.decorators.csrf import csrf_exempt\n",
    "from .serializers import ArticleSerializer\n",
    "from rest_framework.decorators import api_view\n",
    "from rest_framework.views import APIView\n",
    "from rest_framework.response import Response\n",
    "from rest_framework import status\n",
    "\n",
    "from rest_framework import generics\n",
    "from rest_framework import mixins\n",
    "\n",
    "from rest_framework.authentication import SessionAuthentication, BasicAuthentication, TokenAuthentication\n",
    "from rest_framework.permissions import IsAuthenticated\n",
    "from django.shortcuts import get_list_or_404, get_object_or_404\n",
    "\n",
    "\n",
    "from rest_framework import viewsets\n",
    "\n",
    "class ArticleViewSet(viewsets.ViewSet):\n",
    "\n",
    "    def list(self, request):\n",
    "        articles = Article.objects.all()\n",
    "        serializer = ArticleSerializer(articles, many=True)\n",
    "        return Response(serializer.data)\n",
    "\n",
    "    def create(self, request): #post\n",
    "        serializer = ArticleSerializer(data=request.data)\n",
    "\n",
    "        if serializer.is_valid():\n",
    "            serializer.save()\n",
    "            return Response(serializer.data, status=status.HTTP_201_CREATED)\n",
    "\n",
    "        return Response(serializer.errors, status=status.HTTP_400_BAD_REQUEST)\n",
    "\n",
    "    def retrieve(self, request, pk=None): #get\n",
    "        queryset = Article.objects.all()\n",
    "        article = get_object_or_404(queryset, pk=pk)\n",
    "        serializer = ArticleSerializer(article)\n",
    "        return Response(serializer.data)\n",
    "\n",
    "    def update(self, request, pk=None): #put\n",
    "        article = Article.objects.get(pk=pk)\n",
    "        serializer = ArticleSerializer(article, data=request.data)\n",
    "        if serializer.is_valid():\n",
    "            serializer.save()\n",
    "\n",
    "            return Response(serializer.data)\n",
    "            return Response(serializer.errors, status=HTTP_400_BAD_REQUEST)"
   ]
  },
  {
   "cell_type": "code",
   "execution_count": null,
   "id": "direct-romantic",
   "metadata": {},
   "outputs": [],
   "source": [
    "#urls.py\n",
    "\n",
    "from django.urls import path, include\n",
    "# from .views import article_list\n",
    "# from .views import article_detail\n",
    "# from .views import ArticleAPIView, ArticleDetails\n",
    "from .views import GenericAPIView, ArticleViewSet\n",
    "from rest_framework.routers import DefaultRouter\n",
    "\n",
    "router = DefaultRouter()\n",
    "router.register('article', ArticleViewSet, basename='article')\n",
    "\n",
    "urlpatterns = [\n",
    "    path('viewset/', include(router.urls)),\n",
    "    path('viewset/<int:pk>/', include(router.urls)),\n",
    "]"
   ]
  },
  {
   "cell_type": "markdown",
   "id": "packed-channels",
   "metadata": {},
   "source": [
    "### ii. GenericViewSet - \n",
    "\n",
    "The GenericViewSet class inherits from GenericAPIView, and provides the default set of get_object, get_queryset methods and other generic view base behavior, but does not include any actions by default.\n",
    "\n",
    "In order to use a GenericViewSet class you'll override the class and either mixin the required mixin classes, or define the action implementations explicitly."
   ]
  },
  {
   "cell_type": "code",
   "execution_count": null,
   "id": "choice-offense",
   "metadata": {},
   "outputs": [],
   "source": [
    "#example\n",
    "\n",
    "class ArticleViewSet(viewsets.GenericViewSet, mixins.ListModelMixin):\n",
    "    serializer_class = ArticleSerializer\n",
    "    queryset = Article.objects.all()\n",
    "    \n",
    "#now you don't need to add get() method to get the data since it is GenericViewSet..prebuild abstracted view\n",
    "#autoimplemented get method using ListModelMixin"
   ]
  },
  {
   "cell_type": "markdown",
   "id": "direct-scholarship",
   "metadata": {},
   "source": [
    "### iii. ModelViewSet\n",
    "\n",
    "The ModelViewSet class inherits from GenericAPIView and includes implementations for various actions, by mixing in the behavior of the various mixin classes.\n",
    "\n",
    "The actions provided by the ModelViewSet class are .list(), .retrieve(), .create(), .update(), .partial_update(), and .destroy()."
   ]
  },
  {
   "cell_type": "code",
   "execution_count": null,
   "id": "motivated-practitioner",
   "metadata": {},
   "outputs": [],
   "source": [
    "class ArticleViewSet(viewsets.ModelViewSet):\n",
    "    serializer_class = ArticleSerializer\n",
    "    queryset = Article.objects.all()"
   ]
  },
  {
   "cell_type": "code",
   "execution_count": null,
   "id": "direct-refrigerator",
   "metadata": {},
   "outputs": [],
   "source": [
    "# urls.py\n",
    "\n",
    "from django.urls import path, include\n",
    "# from .views import article_list\n",
    "# from .views import article_detail\n",
    "# from .views import ArticleAPIView, ArticleDetails\n",
    "from .views import GenericAPIView, ArticleViewSet\n",
    "from rest_framework.routers import DefaultRouter\n",
    "\n",
    "router = DefaultRouter()\n",
    "router.register('article', ArticleViewSet, basename='article')\n",
    "\n",
    "urlpatterns = [\n",
    "    path('viewset/', include(router.urls)),\n",
    "    path('viewset/<int:pk>/', include(router.urls)),\n",
    "    # path('article/', article_list),\n",
    "    # path('detail/<int:pk>/', article_detail)\n",
    "    # path('article/', ArticleAPIView.as_view()),\n",
    "    # path('detail/<int:id>/', ArticleDetails.as_view()), #Because it's a class we need to use as views.\n",
    "    path('generic/article/<int:id>/', GenericAPIView.as_view())\n",
    "     \n",
    "]"
   ]
  },
  {
   "cell_type": "markdown",
   "id": "referenced-relationship",
   "metadata": {},
   "source": [
    "### iv. ReadOnlyModelViewSet\n",
    "\n",
    "ReadOnlyModelViewSet class also inherits from GenericAPIView. As with ModelViewSet it also includes implementations for various actions, but unlike ModelViewSet only provides the 'read-only' actions, .list() and .retrieve()."
   ]
  },
  {
   "cell_type": "code",
   "execution_count": null,
   "id": "engaged-attraction",
   "metadata": {},
   "outputs": [],
   "source": [
    "# As with ModelViewSet, you'll normally need to provide at least the queryset and serializer_class attributes. For example:\n",
    "\n",
    "class AccountViewSet(viewsets.ReadOnlyModelViewSet):\n",
    "    \"\"\"\n",
    "    A simple ViewSet for viewing accounts.\n",
    "    \"\"\"\n",
    "    queryset = Account.objects.all()\n",
    "    serializer_class = AccountSerializer"
   ]
  },
  {
   "cell_type": "markdown",
   "id": "received-question",
   "metadata": {},
   "source": [
    "### v. Custom ViewSet base classes\n",
    "You may need to provide custom ViewSet classes that do not have the full set of ModelViewSet actions, or that customize the behavior in some other way.\n",
    "\n",
    "Example\n",
    "To create a base viewset class that provides create, list and retrieve operations, inherit from GenericViewSet, and mixin the required actions:\n"
   ]
  },
  {
   "cell_type": "code",
   "execution_count": null,
   "id": "basic-harris",
   "metadata": {},
   "outputs": [],
   "source": [
    "from rest_framework import mixins\n",
    "\n",
    "class CreateListRetrieveViewSet(mixins.CreateModelMixin,\n",
    "                                mixins.ListModelMixin,\n",
    "                                mixins.RetrieveModelMixin,\n",
    "                                viewsets.GenericViewSet):\n",
    "    \"\"\"\n",
    "    A viewset that provides `retrieve`, `create`, and `list` actions.\n",
    "\n",
    "    To use it, override the class and set the `.queryset` and\n",
    "    `.serializer_class` attributes.\n",
    "    \"\"\"\n",
    "    pass"
   ]
  },
  {
   "cell_type": "markdown",
   "id": "blond-mailing",
   "metadata": {},
   "source": [
    "# Hyperlinking our API\n",
    "Dealing with relationships between entities is one of the more challenging aspects of Web API design. There are a number of different ways that we might choose to represent a relationship:\n",
    "\n",
    "- Using primary keys.\n",
    "- Using hyperlinking between entities.\n",
    "- Using a unique identifying slug field on the related entity.\n",
    "- Using the default string representation of the related entity.\n",
    "- Nesting the related entity inside the parent representation.\n",
    "- Some other custom representation.\n",
    "- REST framework supports all of these styles, and can apply them across forward or reverse relationships, or apply them across custom managers such as generic foreign keys."
   ]
  },
  {
   "cell_type": "markdown",
   "id": "frank-journey",
   "metadata": {},
   "source": [
    "### HyperlinkedModelSerializer \n",
    "\n",
    "has the following differences from ModelSerializer:\n",
    "\n",
    "It does not include the id field by default.\n",
    "\n",
    "It includes a url field, using HyperlinkedIdentityField.\n",
    "\n",
    "Relationships use HyperlinkedRelatedField, instead of PrimaryKeyRelatedField."
   ]
  },
  {
   "cell_type": "markdown",
   "id": "contemporary-album",
   "metadata": {},
   "source": [
    "## Adding optional format suffixes to our URLs\n",
    "\n",
    "To take advantage of the fact that our responses are no longer hardwired to a single content type let's add support for format suffixes to our API endpoints. Using format suffixes gives us URLs that explicitly refer to a given format, and means our API will be able to handle URLs such as http://example.com/api/items/4.json.\n",
    "\n",
    "Start by adding a format keyword argument to both of the views, like so.\n",
    "\n",
    "def snippet_list(request, format=None):\n",
    "\n",
    "&\n",
    "\n",
    "def snippet_detail(request, pk, format=None):"
   ]
  },
  {
   "cell_type": "code",
   "execution_count": null,
   "id": "banned-mouth",
   "metadata": {},
   "outputs": [],
   "source": [
    "#Now update the snippets/urls.py file slightly, to append a set of format_suffix_patterns..\n",
    "#...in addition to the existing URLs.\n",
    "\n",
    "from django.urls import path\n",
    "from rest_framework.urlpatterns import format_suffix_patterns\n",
    "from snippets import views\n",
    "\n",
    "urlpatterns = [\n",
    "    path('snippets/', views.snippet_list),\n",
    "    path('snippets/<int:pk>', views.snippet_detail),\n",
    "]\n",
    "\n",
    "urlpatterns = format_suffix_patterns(urlpatterns)"
   ]
  },
  {
   "cell_type": "markdown",
   "id": "wooden-group",
   "metadata": {},
   "source": [
    "***\n",
    "***"
   ]
  },
  {
   "cell_type": "markdown",
   "id": "geographic-slave",
   "metadata": {},
   "source": [
    "# API endpoint\n",
    "\n",
    "URLs with a list of available actions (HTTP verbs) that expose data\n",
    "\n",
    "An endpoint is one end of a communication channel, Where an API interacts with another system."
   ]
  },
  {
   "cell_type": "markdown",
   "id": "heated-principle",
   "metadata": {},
   "source": [
    "## Status Codes\n",
    "\n",
    "Once your web browser has executed an HTTP Request on a URL there is no guarantee things will actually work! Thus there is a quite lengthy list of HTTP Status Codes available to accompany each HTTP response.\n",
    "\n",
    "You can tell the general type of status code based on the following system:\n",
    "\n",
    "- 2xx Success - the action requested by the client was received, understood, and accepted\n",
    "- 3xx Redirection - the requested URL has moved\n",
    "- 4xx Client Error - there was an error, typically a bad URL request by the client\n",
    "- 5xx Server Error - the server failed to resolve a request"
   ]
  },
  {
   "cell_type": "markdown",
   "id": "frequent-guard",
   "metadata": {},
   "source": [
    "here is no need to memorize all the available status codes. With practice you will become familiar with the most common ones such as 200 (OK), 201 (Created), 301 (Moved Permanently), 404 (Not Found), and 500 (Server Error).\n",
    "\n",
    "The important thing to remember is that, generally speaking, there are only four potential outcomes to any given HTTP request: it worked (2xx), it was redirected somehow (3xx), the client made an error (4xx), or the server made an error (5xx)."
   ]
  },
  {
   "cell_type": "markdown",
   "id": "according-semiconductor",
   "metadata": {},
   "source": [
    "## Statelessness\n",
    "\n",
    "A final important point to make about HTTP is that it is a stateless protocol. This means each request/response pair is completely independent of the previous one. There is no stored memory of past interactions, which is known as state in computer science."
   ]
  },
  {
   "cell_type": "markdown",
   "id": "external-installation",
   "metadata": {},
   "source": [
    "### Difference in get and filter:\n",
    "\n",
    "- use get() if you know there is only single object that matches your query.\n",
    "- use filter() when you want to get all objects that match your lookup parameters."
   ]
  },
  {
   "cell_type": "markdown",
   "id": "reverse-sharp",
   "metadata": {},
   "source": [
    "mymodel=model.objects.get(name='pol')\n",
    "\n",
    "mymodel=model.objects.filter(name='pol')"
   ]
  },
  {
   "cell_type": "markdown",
   "id": "latin-medicine",
   "metadata": {},
   "source": [
    "***\n",
    "***"
   ]
  }
 ],
 "metadata": {
  "kernelspec": {
   "display_name": "Python 3",
   "language": "python",
   "name": "python3"
  },
  "language_info": {
   "codemirror_mode": {
    "name": "ipython",
    "version": 3
   },
   "file_extension": ".py",
   "mimetype": "text/x-python",
   "name": "python",
   "nbconvert_exporter": "python",
   "pygments_lexer": "ipython3",
   "version": "3.8.5"
  }
 },
 "nbformat": 4,
 "nbformat_minor": 5
}
