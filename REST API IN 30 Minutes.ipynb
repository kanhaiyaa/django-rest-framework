{
 "cells": [
  {
   "cell_type": "markdown",
   "id": "bibliographic-biodiversity",
   "metadata": {},
   "source": [
    "## [Source Code](https://github.com/kanhaiyaa/Heros_API)"
   ]
  },
  {
   "cell_type": "markdown",
   "id": "christian-alarm",
   "metadata": {},
   "source": [
    "# To-do list to create a REST API in Django"
   ]
  },
  {
   "cell_type": "markdown",
   "id": "attended-trade",
   "metadata": {},
   "source": [
    "1. Set up Django\n",
    "2. Create a model in the database that the Django ORM will manage,,migrate and register model with admin\n",
    "3. Set up the Django REST Framework\n",
    "4. Serialize the model from step 2 and create a view to query database and pass data to serializer\n",
    "5. Create the URI endpoints to view the serialized data"
   ]
  },
  {
   "cell_type": "markdown",
   "id": "corresponding-stationery",
   "metadata": {},
   "source": [
    "## Change Password \n",
    "\n",
    "python manage.py changepassword user_name"
   ]
  },
  {
   "cell_type": "markdown",
   "id": "biblical-sydney",
   "metadata": {},
   "source": [
    "## 1. Set Up Django"
   ]
  },
  {
   "cell_type": "markdown",
   "id": "stuffed-redhead",
   "metadata": {},
   "source": [
    "- Install Django and Start a New Project named **mysite** and freeze requirements."
   ]
  },
  {
   "cell_type": "markdown",
   "id": "caroline-treasurer",
   "metadata": {},
   "source": [
    "### 1.3 Create our API app\n",
    "\n",
    "Best practice is to separate your Django project into separate apps when you build something new.\n",
    "So, let’s create a new app for our API:"
   ]
  },
  {
   "cell_type": "markdown",
   "id": "exclusive-council",
   "metadata": {},
   "source": [
    "- django-admin startapp myapi"
   ]
  },
  {
   "cell_type": "markdown",
   "id": "adjacent-weekly",
   "metadata": {},
   "source": [
    "### 1.4 Register the myapi app with the mysite project\n",
    "We need to tell Django to recognize this new app that we just created. The steps we do later won’t work if Django doesn’t know about myapi."
   ]
  },
  {
   "cell_type": "code",
   "execution_count": 10,
   "id": "eleven-portuguese",
   "metadata": {},
   "outputs": [],
   "source": [
    "# So, we edit mysite/settings.py:\n",
    "\n",
    "INSTALLED_APPS = [\n",
    "    'myapi.apps.MyapiConfig',\n",
    "    ... # Leave all the other INSTALLED_APPS\n",
    "]"
   ]
  },
  {
   "cell_type": "markdown",
   "id": "iraqi-mirror",
   "metadata": {},
   "source": [
    "### 1.5 Migrate the Database"
   ]
  },
  {
   "cell_type": "markdown",
   "id": "aware-customs",
   "metadata": {},
   "source": [
    "Whenever we create or make changes to a model, we need to tell Django to migrate those changes to the database. The Django ORM then writes all the SQL CREATE TABLE commands for us.\n",
    "It turns out that Django comes with a few models already built in. We need to migrate those built in models to our database."
   ]
  },
  {
   "cell_type": "markdown",
   "id": "divine-guyana",
   "metadata": {},
   "source": [
    "## 1.6 Create Super User\n",
    "One more thing before we move on.\n",
    "We’re about to create some models. It would be nice if we had access to Django’s pretty admin interface when we want to review the data in our database.\n",
    "To do so, we’ll need login credentials. So, let’s make ourselves the owners and administrators of this project. THE ALL-POWERFUL SUPERUSER!!!"
   ]
  },
  {
   "cell_type": "markdown",
   "id": "retired-reading",
   "metadata": {},
   "source": [
    "- python manage.py createsuperuser"
   ]
  },
  {
   "cell_type": "markdown",
   "id": "remarkable-preparation",
   "metadata": {},
   "source": [
    "Varify if superuser works"
   ]
  },
  {
   "cell_type": "markdown",
   "id": "balanced-image",
   "metadata": {},
   "source": [
    "## 2. Create a model in the database that Django ORM will manage\n"
   ]
  },
  {
   "cell_type": "markdown",
   "id": "acute-diversity",
   "metadata": {},
   "source": [
    "Let’s make our first model!\n",
    "We’ll build it in myapi/models.py , so open up that file."
   ]
  },
  {
   "cell_type": "markdown",
   "id": "local-particular",
   "metadata": {},
   "source": [
    "### 2.1\n",
    "Let’s make a database of superheroes! Each hero has a name and an alias that they go by in normal life. We’ll start there with our model:"
   ]
  },
  {
   "cell_type": "raw",
   "id": "surrounded-country",
   "metadata": {},
   "source": [
    "# models.py\n",
    "from django.db import models\n",
    "class Hero(models.Model):\n",
    "    name = models.CharField(max_length=60)\n",
    "    alias = models.CharField(max_length=60)\n",
    "    def __str__(self):\n",
    "        return self.name"
   ]
  },
  {
   "cell_type": "markdown",
   "id": "baking-parcel",
   "metadata": {},
   "source": [
    "name and alias are character fields where we can store strings. The __ str__ method just tells Django what to print when it needs to print out an instance of the Hero model."
   ]
  },
  {
   "cell_type": "markdown",
   "id": "brilliant-balance",
   "metadata": {},
   "source": [
    "### 2.2 Make migrations\n",
    "Remember, whenever we define or change a model, we need to tell Django to migrate those changes."
   ]
  },
  {
   "cell_type": "markdown",
   "id": "executive-announcement",
   "metadata": {},
   "source": [
    "- python manage.py makemigrations\n",
    "- python manage.py migrate"
   ]
  },
  {
   "cell_type": "markdown",
   "id": "centered-second",
   "metadata": {},
   "source": [
    "### 2.3 Register Hero with the admin site\n",
    "Remember that awesome admin site that comes out of the box with Django?\n",
    "It doesn’t know the Hero model exists, but with two lines of code, we can tell it about Hero.\n",
    "Open myapi/admin.py and make it look like this:\n"
   ]
  },
  {
   "cell_type": "raw",
   "id": "behavioral-message",
   "metadata": {},
   "source": [
    "from django.contrib import admin\n",
    "from .models import Hero\n",
    "admin.site.register(Hero)"
   ]
  },
  {
   "cell_type": "markdown",
   "id": "industrial-voltage",
   "metadata": {},
   "source": [
    "Now run manage.py runserver and Add some heros name"
   ]
  },
  {
   "cell_type": "markdown",
   "id": "japanese-needle",
   "metadata": {},
   "source": [
    "## 3. Set up Django REST Framework"
   ]
  },
  {
   "cell_type": "markdown",
   "id": "august-afternoon",
   "metadata": {},
   "source": [
    "Okay, time to start thinking about our heroes API. We need to serialize the data from our database via endpoints.\n",
    "To do that, we’ll need Django REST Framework, so let’s get that installed."
   ]
  },
  {
   "cell_type": "markdown",
   "id": "urban-pocket",
   "metadata": {},
   "source": [
    "- pip install djangorestframework"
   ]
  },
  {
   "cell_type": "markdown",
   "id": "palestinian-bench",
   "metadata": {},
   "source": [
    "Now, tell Django that we installed the REST Framework in mysite/settings.py:"
   ]
  },
  {
   "cell_type": "raw",
   "id": "quick-concentrate",
   "metadata": {},
   "source": [
    "INSTALLED_APPS = [\n",
    "    # All your installed apps stay the same\n",
    "    ...\n",
    "    'rest_framework',\n",
    "]"
   ]
  },
  {
   "cell_type": "markdown",
   "id": "veterinary-hunger",
   "metadata": {},
   "source": [
    "That's it"
   ]
  },
  {
   "cell_type": "markdown",
   "id": "essential-double",
   "metadata": {},
   "source": [
    "## 4. Serialize the Hero model"
   ]
  },
  {
   "cell_type": "markdown",
   "id": "velvet-scottish",
   "metadata": {},
   "source": [
    "Now we’re starting to get into some new waters. We need to tell REST Framework about our Hero model and how it should serialize the data.\n",
    "\n",
    "Remember, `serialization is the process of Unpackaging(converting) a Model(tabular data) to JSON`. \n",
    "\n",
    "Using a serializer, we can specify what fields should be present in the JSON representation of the model.\n",
    "\n",
    "The serializer will turn our heroes into a JSON representation so the API user can parse them, even if they’re not using Python. \n",
    "\n",
    "In turn, when a user POSTs JSON data to our API, the serializer will convert that JSON to a Hero model for us to save or validate.\n",
    "\n",
    "To do so, let’s create a new file — **myapi/serializers.py**\n",
    "In this file, we need to:\n",
    "\n",
    "1. Import the Hero model\n",
    "2. Import the REST Framework serializer\n",
    "3. Create a new class that links the Hero with its serializer\n",
    "\n",
    "Here’s how:"
   ]
  },
  {
   "cell_type": "raw",
   "id": "assisted-syracuse",
   "metadata": {},
   "source": [
    "# serializers.py\n",
    "from rest_framework import serializers\n",
    "\n",
    "from .models import Hero\n",
    "\n",
    "class HeroSerializer(serializers.HyperlinkedModelSerializer):\n",
    "    class Meta:\n",
    "        model = Hero\n",
    "        fields = ('name', 'alias')"
   ]
  },
  {
   "cell_type": "markdown",
   "id": "authorized-methodology",
   "metadata": {},
   "source": [
    "## 5. Display the data"
   ]
  },
  {
   "cell_type": "markdown",
   "id": "focal-patrick",
   "metadata": {},
   "source": [
    "Now, all that’s left to do is wire up the URLs and views to display the data!"
   ]
  },
  {
   "cell_type": "markdown",
   "id": "foster-oracle",
   "metadata": {},
   "source": [
    "### 5.1 Views\n",
    "Let’s start with the view. We need to render the different heroes in JSON format.\n",
    "\n",
    "To do so, we need to:\n",
    "\n",
    "1. Query the database for all heroes\n",
    "\n",
    "2. Pass that database queryset into the serializer we just created, so that it gets converted into JSON and rendered\n",
    "\n",
    "Here is how."
   ]
  },
  {
   "cell_type": "raw",
   "id": "devoted-local",
   "metadata": {},
   "source": [
    "# views.py\n",
    "from rest_framework import viewsets\n",
    "\n",
    "from .serializers import HeroSerializer\n",
    "from .models import Hero\n",
    "\n",
    "\n",
    "class HeroViewSet(viewsets.ModelViewSet):\n",
    "    queryset = Hero.objects.all().order_by('name')\n",
    "    serializer_class = HeroSerializer"
   ]
  },
  {
   "cell_type": "markdown",
   "id": "aggregate-voice",
   "metadata": {},
   "source": [
    "ModelViewSet is a special view that Django Rest Framework provides. It will handle GET and POST for Heroes without us having to do any more work."
   ]
  },
  {
   "cell_type": "markdown",
   "id": "asian-introduction",
   "metadata": {},
   "source": [
    "## 5.2 Site URLs\n",
    "Okay, awesome. We’re soooooo close. The last step is to point a URL at the viewset we just created.\n",
    "\n",
    "In Django, URLs get resolved at the project level first. So there’s a file in mysite/ directory called urls.py .\n",
    "Head over there. \n",
    "\n",
    "You’ll see the URL for the admin site is already in there. Now, we just need to add a URL for our API. For now, let’s just put our API at the index:"
   ]
  },
  {
   "cell_type": "raw",
   "id": "fitting-beaver",
   "metadata": {},
   "source": [
    "# mysite/urls.py\n",
    "from django.contrib import admin\n",
    "from django.urls import path, include\n",
    "\n",
    "urlpatterns = [\n",
    "    path('admin/', admin.site.urls),\n",
    "    path('', include('myapi.urls')),\n",
    " ]"
   ]
  },
  {
   "cell_type": "markdown",
   "id": "painted-therapy",
   "metadata": {},
   "source": [
    "### 5.3 API URLs\n",
    "If you’re paying attention and not just blindly copy-pasting, you’ll notice that we included `'myapi.urls'` . \n",
    "\n",
    "That’s a path to a file we haven’t edited yet. And that’s where Django is going to look next for instructions on how to route this URL.\n",
    "\n",
    "So, let’s go there next — `myapi/urls.py`:"
   ]
  },
  {
   "cell_type": "raw",
   "id": "subsequent-console",
   "metadata": {},
   "source": [
    "# myapi/urls.py\n",
    "from django.urls import include, path\n",
    "from rest_framework import routers\n",
    "from . import views\n",
    "\n",
    "router = routers.DefaultRouter()\n",
    "router.register(r'heroes', views.HeroViewSet)\n",
    "\n",
    "# Wire up our API using automatic URL routing.\n",
    "# Additionally, we include login URLs for the browsable API.\n",
    "urlpatterns = [\n",
    "    path('', include(router.urls)),\n",
    "    path('api-auth/', include('rest_framework.urls', namespace='rest_framework'))\n",
    "]"
   ]
  },
  {
   "cell_type": "markdown",
   "id": "radical-amount",
   "metadata": {},
   "source": [
    "Notice we added something called **router** that we imported from rest_framework.\n",
    "\n",
    "The REST Framework `router will make sure our requests end up at the right resource dynamically`. If we add or delete items from the database, the URLs will update to match. Cool right?\n",
    "\n",
    "A router works with a viewset (see views.py above) to dynamically route requests. \n",
    "\n",
    "In order for a router to work, it needs to point to a viewset, and in most cases, if you have a viewset you’ll want a router to go with it.\n",
    "\n",
    "So far, we’ve only added one `model+serializer+viewset` to the router — Heroes. But we can add more in the future repeating the same process above for different models! (Maybe create a Villains API next?)\n",
    "\n",
    "Of course, if you only **want to use standard DRF Views instead of viewsets, then urls.py will look a little different**.\n",
    "\n",
    "You don’t need a router to use simple views, and you can just add them with:"
   ]
  },
  {
   "cell_type": "raw",
   "id": "million-missouri",
   "metadata": {},
   "source": [
    "path('path/to/my/view/', MySimpleView.as_view())"
   ]
  },
  {
   "cell_type": "markdown",
   "id": "hispanic-customer",
   "metadata": {},
   "source": [
    "## Test it out \n",
    "\n",
    "Run `python3 manage.py runserver`\n",
    "\n",
    "Go to http://127.0.0.1:8000/"
   ]
  },
  {
   "cell_type": "markdown",
   "id": "associate-going",
   "metadata": {},
   "source": [
    "## [Resource](https://medium.com/swlh/build-your-first-rest-api-with-django-rest-framework-e394e39a482c)"
   ]
  },
  {
   "cell_type": "code",
   "execution_count": null,
   "id": "acquired-template",
   "metadata": {},
   "outputs": [],
   "source": []
  }
 ],
 "metadata": {
  "kernelspec": {
   "display_name": "Python 3",
   "language": "python",
   "name": "python3"
  },
  "language_info": {
   "codemirror_mode": {
    "name": "ipython",
    "version": 3
   },
   "file_extension": ".py",
   "mimetype": "text/x-python",
   "name": "python",
   "nbconvert_exporter": "python",
   "pygments_lexer": "ipython3",
   "version": "3.8.5"
  }
 },
 "nbformat": 4,
 "nbformat_minor": 5
}
